{
    "metadata": {
        "kernelspec": {
            "name": "SQL",
            "display_name": "SQL",
            "language": "sql"
        },
        "language_info": {
            "name": "sql",
            "version": ""
        },
        "extensions": {
            "azuredatastudio": {
                "version": 1,
                "views": []
            }
        }
    },
    "nbformat_minor": 2,
    "nbformat": 4,
    "cells": [
        {
            "cell_type": "markdown",
            "source": [
                "# SQL Part 3 Studio\n",
                "\n",
                "### Let's practice your SQL quering skills!  For each question, work along in the notebook adding your query and answering the questions. \n",
                "\n",
                "### **DataSet**\n",
                "\n",
                "### <span style=\"font-size: 14px; font-family: -apple-system, BlinkMacSystemFont, sans-serif;\">We will be using the Goodbooks-10k dataset from the exercises in the prep work.&nbsp; Feel free reference your previous notebooks.</span>\n",
                "\n",
                "- The dataset can be found here: [goodbooks-10k](https://www.kaggle.com/zygmunt/goodbooks-10k)\n",
                "- You can access the **BooksDB** in the Launchcode server.\n",
                "\n",
                "### **Business Issue**\n",
                "\n",
                "You are an employee at a small independet bookstore and you have been tasked to increase sales.  You decide to use the BooksDB to find books and themes to highlight in fun promotions throughout each month / season.  We will be starting with March and then you will have a chance to explore another month of your choosing.  We want to come up with a list of events/ promotions to run each month.  If you are looking for ideas to include in your promotions:\n",
                "\n",
                "- [https://www.calendarr.com/united-states/calendar-2022/](https://www.calendarr.com/united-states/calendar-2022/)\n",
                "- [https://www.holidayinsights.com/moreholidays/](https://www.holidayinsights.com/moreholidays/)\n",
                "    - Click on a month and it will take you to a more detailed page"
            ],
            "metadata": {
                "azdata_cell_guid": "b9034d8a-b631-48bf-a895-1012a6ffa784"
            },
            "attachments": {}
        },
        {
            "cell_type": "markdown",
            "source": [
                "## Part 1:  March - Women's History Month, Dr Seuss Day(3/2), National Pie Day3/14, St Patrick's Day (3/17), Season - Spring"
            ],
            "metadata": {
                "azdata_cell_guid": "6e55eb1c-4a14-4076-90d2-95ed17a6309f"
            },
            "attachments": {}
        },
        {
            "cell_type": "markdown",
            "source": [
                "### **Event 1:** Women's History Month\n",
                "\n",
                "Goal: Highlight Popular Womans Authors based on ratings from the Good Reads DB.\n",
                "\n",
                "### **Write a query that returns tag\\_id, the number of times each tag\\_id is used and the tag\\_name.**  \n",
                "\n",
                "### Use the GROUP BY and HAVING clause to narrow your focus.\n",
                "\n",
                "Try multiple keywords, ie woman vs female (female ended up giving better results)"
            ],
            "metadata": {
                "azdata_cell_guid": "d220c097-e9cf-4edd-9abe-312d071217b7"
            },
            "attachments": {}
        },
        {
            "cell_type": "code",
            "source": [
                "-- Solution\r\n",
                "select count(t.tag_name) as name_count, t.tag_id, t.tag_name\r\n",
                "from BooksDB.dbo.tags as t\r\n",
                "join booksdb.dbo.book_tags as bt\r\n",
                "on bt.tag_id = t.tag_id \r\n",
                "--where tag_name like '%woman%'\r\n",
                "group by t.tag_id, tag_name\r\n",
                "having t.tag_name like '%woman%' or t.tag_name like '%female%'\r\n",
                "order by name_count desc"
            ],
            "metadata": {
                "azdata_cell_guid": "e31b9d26-0386-44c7-828e-85f4f06f3ee6",
                "language": "sql",
                "tags": []
            },
            "outputs": [
                {
                    "output_type": "display_data",
                    "data": {
                        "text/html": "(59 rows affected)"
                    },
                    "metadata": {}
                },
                {
                    "output_type": "display_data",
                    "data": {
                        "text/html": "Total execution time: 00:00:00.279"
                    },
                    "metadata": {}
                },
                {
                    "output_type": "execute_result",
                    "metadata": {},
                    "execution_count": 31,
                    "data": {
                        "application/vnd.dataresource+json": {
                            "schema": {
                                "fields": [
                                    {
                                        "name": "name_count"
                                    },
                                    {
                                        "name": "tag_id"
                                    },
                                    {
                                        "name": "tag_name"
                                    }
                                ]
                            },
                            "data": [
                                {
                                    "0": "997",
                                    "1": "11643",
                                    "2": "female-author"
                                },
                                {
                                    "0": "721",
                                    "1": "11644",
                                    "2": "female-authors"
                                },
                                {
                                    "0": "171",
                                    "1": "11658",
                                    "2": "female-protagonist"
                                },
                                {
                                    "0": "32",
                                    "1": "11646",
                                    "2": "female-detective"
                                },
                                {
                                    "0": "18",
                                    "1": "11662",
                                    "2": "female-writers"
                                },
                                {
                                    "0": "17",
                                    "1": "11642",
                                    "2": "female"
                                },
                                {
                                    "0": "17",
                                    "1": "11656",
                                    "2": "female-pov"
                                },
                                {
                                    "0": "14",
                                    "1": "32681",
                                    "2": "woman-s-murder-club"
                                },
                                {
                                    "0": "14",
                                    "1": "11652",
                                    "2": "female-lead"
                                },
                                {
                                    "0": "12",
                                    "1": "3514",
                                    "2": "author-female"
                                },
                                {
                                    "0": "10",
                                    "1": "32683",
                                    "2": "womanhood"
                                },
                                {
                                    "0": "10",
                                    "1": "28834",
                                    "2": "strong-female-lead"
                                },
                                {
                                    "0": "9",
                                    "1": "11647",
                                    "2": "female-detectives"
                                },
                                {
                                    "0": "8",
                                    "1": "32685",
                                    "2": "womans-murder-club"
                                },
                                {
                                    "0": "8",
                                    "1": "19038",
                                    "2": "man-woman"
                                },
                                {
                                    "0": "6",
                                    "1": "4455",
                                    "2": "biblical-womanhood"
                                },
                                {
                                    "0": "5",
                                    "1": "22269",
                                    "2": "older-man-younger-woman"
                                },
                                {
                                    "0": "4",
                                    "1": "32740",
                                    "2": "wonder-woman"
                                },
                                {
                                    "0": "4",
                                    "1": "11650",
                                    "2": "female-friendship"
                                },
                                {
                                    "0": "4",
                                    "1": "28830",
                                    "2": "strong-female"
                                },
                                {
                                    "0": "4",
                                    "1": "22271",
                                    "2": "older-woman-younger-man"
                                },
                                {
                                    "0": "3",
                                    "1": "28833",
                                    "2": "strong-female-characters"
                                },
                                {
                                    "0": "2",
                                    "1": "32680",
                                    "2": "woman-s-fiction"
                                },
                                {
                                    "0": "2",
                                    "1": "5132",
                                    "2": "books-every-woman-should-read"
                                },
                                {
                                    "0": "2",
                                    "1": "7194",
                                    "2": "christian-woman"
                                },
                                {
                                    "0": "2",
                                    "1": "11645",
                                    "2": "female-biographies"
                                },
                                {
                                    "0": "2",
                                    "1": "23671",
                                    "2": "pioneer-woman"
                                },
                                {
                                    "0": "1",
                                    "1": "32684",
                                    "2": "womans-literature"
                                },
                                {
                                    "0": "1",
                                    "1": "32682",
                                    "2": "woman-trans-agender-authors"
                                },
                                {
                                    "0": "1",
                                    "1": "32679",
                                    "2": "woman-author"
                                },
                                {
                                    "0": "1",
                                    "1": "29324",
                                    "2": "tbr-ax-female"
                                },
                                {
                                    "0": "1",
                                    "1": "28836",
                                    "2": "strong-female-supporting-characters"
                                },
                                {
                                    "0": "1",
                                    "1": "28835",
                                    "2": "strong-female-protagonist"
                                },
                                {
                                    "0": "1",
                                    "1": "28832",
                                    "2": "strong-female-character-s"
                                },
                                {
                                    "0": "1",
                                    "1": "28831",
                                    "2": "strong-female-character"
                                },
                                {
                                    "0": "1",
                                    "1": "24455",
                                    "2": "protagonist-female"
                                },
                                {
                                    "0": "1",
                                    "1": "23891",
                                    "2": "policewoman-potential-victim"
                                },
                                {
                                    "0": "1",
                                    "1": "22270",
                                    "2": "older-woman"
                                },
                                {
                                    "0": "1",
                                    "1": "19757",
                                    "2": "memorable-woman-characters"
                                },
                                {
                                    "0": "1",
                                    "1": "17079",
                                    "2": "kick-ass-female"
                                },
                                {
                                    "0": "1",
                                    "1": "15331",
                                    "2": "important-female-authors"
                                },
                                {
                                    "0": "1",
                                    "1": "11661",
                                    "2": "female-writer"
                                },
                                {
                                    "0": "1",
                                    "1": "11660",
                                    "2": "female-spy"
                                },
                                {
                                    "0": "1",
                                    "1": "11659",
                                    "2": "female-serial-killer"
                                },
                                {
                                    "0": "1",
                                    "1": "11657",
                                    "2": "female-povs"
                                },
                                {
                                    "0": "1",
                                    "1": "11655",
                                    "2": "female-pi"
                                },
                                {
                                    "0": "1",
                                    "1": "11654",
                                    "2": "female-persuasion"
                                },
                                {
                                    "0": "1",
                                    "1": "11653",
                                    "2": "female-main-character"
                                },
                                {
                                    "0": "1",
                                    "1": "11651",
                                    "2": "female-genre-authors"
                                },
                                {
                                    "0": "1",
                                    "1": "11649",
                                    "2": "female-fiction"
                                },
                                {
                                    "0": "1",
                                    "1": "11648",
                                    "2": "female-doctor"
                                },
                                {
                                    "0": "1",
                                    "1": "10986",
                                    "2": "every-woman-should-read"
                                },
                                {
                                    "0": "1",
                                    "1": "4729",
                                    "2": "black-ops-woman-team-cia-sean-case"
                                },
                                {
                                    "0": "1",
                                    "1": "4309",
                                    "2": "best-adult-female-friendship-books"
                                },
                                {
                                    "0": "1",
                                    "1": "4006",
                                    "2": "batwoman"
                                },
                                {
                                    "0": "1",
                                    "1": "1741",
                                    "2": "afghan-female-entrepreneur-under-ta"
                                },
                                {
                                    "0": "1",
                                    "1": "1387",
                                    "2": "a-woman-after-gods-own-heart"
                                },
                                {
                                    "0": "1",
                                    "1": "1386",
                                    "2": "a-woman-after-god-s-own-heart"
                                },
                                {
                                    "0": "1",
                                    "1": "937",
                                    "2": "21-books-every-woman-should-read"
                                }
                            ]
                        },
                        "text/html": [
                            "<table>",
                            "<tr><th>name_count</th><th>tag_id</th><th>tag_name</th></tr>",
                            "<tr><td>997</td><td>11643</td><td>female-author</td></tr>",
                            "<tr><td>721</td><td>11644</td><td>female-authors</td></tr>",
                            "<tr><td>171</td><td>11658</td><td>female-protagonist</td></tr>",
                            "<tr><td>32</td><td>11646</td><td>female-detective</td></tr>",
                            "<tr><td>18</td><td>11662</td><td>female-writers</td></tr>",
                            "<tr><td>17</td><td>11642</td><td>female</td></tr>",
                            "<tr><td>17</td><td>11656</td><td>female-pov</td></tr>",
                            "<tr><td>14</td><td>32681</td><td>woman-s-murder-club</td></tr>",
                            "<tr><td>14</td><td>11652</td><td>female-lead</td></tr>",
                            "<tr><td>12</td><td>3514</td><td>author-female</td></tr>",
                            "<tr><td>10</td><td>32683</td><td>womanhood</td></tr>",
                            "<tr><td>10</td><td>28834</td><td>strong-female-lead</td></tr>",
                            "<tr><td>9</td><td>11647</td><td>female-detectives</td></tr>",
                            "<tr><td>8</td><td>32685</td><td>womans-murder-club</td></tr>",
                            "<tr><td>8</td><td>19038</td><td>man-woman</td></tr>",
                            "<tr><td>6</td><td>4455</td><td>biblical-womanhood</td></tr>",
                            "<tr><td>5</td><td>22269</td><td>older-man-younger-woman</td></tr>",
                            "<tr><td>4</td><td>32740</td><td>wonder-woman</td></tr>",
                            "<tr><td>4</td><td>11650</td><td>female-friendship</td></tr>",
                            "<tr><td>4</td><td>28830</td><td>strong-female</td></tr>",
                            "<tr><td>4</td><td>22271</td><td>older-woman-younger-man</td></tr>",
                            "<tr><td>3</td><td>28833</td><td>strong-female-characters</td></tr>",
                            "<tr><td>2</td><td>32680</td><td>woman-s-fiction</td></tr>",
                            "<tr><td>2</td><td>5132</td><td>books-every-woman-should-read</td></tr>",
                            "<tr><td>2</td><td>7194</td><td>christian-woman</td></tr>",
                            "<tr><td>2</td><td>11645</td><td>female-biographies</td></tr>",
                            "<tr><td>2</td><td>23671</td><td>pioneer-woman</td></tr>",
                            "<tr><td>1</td><td>32684</td><td>womans-literature</td></tr>",
                            "<tr><td>1</td><td>32682</td><td>woman-trans-agender-authors</td></tr>",
                            "<tr><td>1</td><td>32679</td><td>woman-author</td></tr>",
                            "<tr><td>1</td><td>29324</td><td>tbr-ax-female</td></tr>",
                            "<tr><td>1</td><td>28836</td><td>strong-female-supporting-characters</td></tr>",
                            "<tr><td>1</td><td>28835</td><td>strong-female-protagonist</td></tr>",
                            "<tr><td>1</td><td>28832</td><td>strong-female-character-s</td></tr>",
                            "<tr><td>1</td><td>28831</td><td>strong-female-character</td></tr>",
                            "<tr><td>1</td><td>24455</td><td>protagonist-female</td></tr>",
                            "<tr><td>1</td><td>23891</td><td>policewoman-potential-victim</td></tr>",
                            "<tr><td>1</td><td>22270</td><td>older-woman</td></tr>",
                            "<tr><td>1</td><td>19757</td><td>memorable-woman-characters</td></tr>",
                            "<tr><td>1</td><td>17079</td><td>kick-ass-female</td></tr>",
                            "<tr><td>1</td><td>15331</td><td>important-female-authors</td></tr>",
                            "<tr><td>1</td><td>11661</td><td>female-writer</td></tr>",
                            "<tr><td>1</td><td>11660</td><td>female-spy</td></tr>",
                            "<tr><td>1</td><td>11659</td><td>female-serial-killer</td></tr>",
                            "<tr><td>1</td><td>11657</td><td>female-povs</td></tr>",
                            "<tr><td>1</td><td>11655</td><td>female-pi</td></tr>",
                            "<tr><td>1</td><td>11654</td><td>female-persuasion</td></tr>",
                            "<tr><td>1</td><td>11653</td><td>female-main-character</td></tr>",
                            "<tr><td>1</td><td>11651</td><td>female-genre-authors</td></tr>",
                            "<tr><td>1</td><td>11649</td><td>female-fiction</td></tr>",
                            "<tr><td>1</td><td>11648</td><td>female-doctor</td></tr>",
                            "<tr><td>1</td><td>10986</td><td>every-woman-should-read</td></tr>",
                            "<tr><td>1</td><td>4729</td><td>black-ops-woman-team-cia-sean-case</td></tr>",
                            "<tr><td>1</td><td>4309</td><td>best-adult-female-friendship-books</td></tr>",
                            "<tr><td>1</td><td>4006</td><td>batwoman</td></tr>",
                            "<tr><td>1</td><td>1741</td><td>afghan-female-entrepreneur-under-ta</td></tr>",
                            "<tr><td>1</td><td>1387</td><td>a-woman-after-gods-own-heart</td></tr>",
                            "<tr><td>1</td><td>1386</td><td>a-woman-after-god-s-own-heart</td></tr>",
                            "<tr><td>1</td><td>937</td><td>21-books-every-woman-should-read</td></tr>",
                            "</table>"
                        ]
                    }
                }
            ],
            "execution_count": 31
        },
        {
            "cell_type": "code",
            "source": [
                "select top(100) t.tag_id, bt.tag_name, count(*) as Times_used\r\n",
                "from BooksDB.dbo.book_tags as t\r\n",
                "full join booksdb.dbo.tags as bt\r\n",
                "on bt.tag_id = t.tag_id \r\n",
                "where bt.tag_name like '%female%'\r\n",
                "group by t.tag_id, bt.tag_name\r\n",
                "having count(*) > 100\r\n",
                "order by Times_used desc "
            ],
            "metadata": {
                "azdata_cell_guid": "fa70d994-0981-475f-a8f0-163a97cf8aef",
                "language": "sql"
            },
            "outputs": [
                {
                    "output_type": "display_data",
                    "data": {
                        "text/html": "(3 rows affected)"
                    },
                    "metadata": {}
                },
                {
                    "output_type": "display_data",
                    "data": {
                        "text/html": "Total execution time: 00:00:03.623"
                    },
                    "metadata": {}
                },
                {
                    "output_type": "execute_result",
                    "metadata": {},
                    "execution_count": 40,
                    "data": {
                        "application/vnd.dataresource+json": {
                            "schema": {
                                "fields": [
                                    {
                                        "name": "tag_id"
                                    },
                                    {
                                        "name": "tag_name"
                                    },
                                    {
                                        "name": "Times_used"
                                    }
                                ]
                            },
                            "data": [
                                {
                                    "0": "11643",
                                    "1": "female-author",
                                    "2": "997"
                                },
                                {
                                    "0": "11644",
                                    "1": "female-authors",
                                    "2": "721"
                                },
                                {
                                    "0": "11658",
                                    "1": "female-protagonist",
                                    "2": "171"
                                }
                            ]
                        },
                        "text/html": [
                            "<table>",
                            "<tr><th>tag_id</th><th>tag_name</th><th>Times_used</th></tr>",
                            "<tr><td>11643</td><td>female-author</td><td>997</td></tr>",
                            "<tr><td>11644</td><td>female-authors</td><td>721</td></tr>",
                            "<tr><td>11658</td><td>female-protagonist</td><td>171</td></tr>",
                            "</table>"
                        ]
                    }
                }
            ],
            "execution_count": 40
        },
        {
            "cell_type": "markdown",
            "source": [
                "### **Which keyword(s) and tag(s) would you like to explore more?**\n",
                "\n",
                "Double click to edit."
            ],
            "metadata": {
                "azdata_cell_guid": "e9acd8b5-a62b-4ac0-bd07-19915b379ba6"
            },
            "attachments": {}
        },
        {
            "cell_type": "markdown",
            "source": [
                "### **Write a query to return authors, titles, ratings and** **selected tag(s)\\_id.**"
            ],
            "metadata": {
                "azdata_cell_guid": "59b84464-c0bc-4dac-9e02-0c803765b063"
            },
            "attachments": {}
        },
        {
            "cell_type": "code",
            "source": [
                "-- Solution\r\n",
                "select top 10 b.authors, b.title, b.average_rating, bt.tag_id\r\n",
                "from books as b\r\n",
                "inner join book_tags as bt\r\n",
                "on b.best_book_id = bt.goodreads_book_id\r\n",
                "group by b.authors, b.title, b.average_rating, bt.tag_id\r\n",
                "order by b.average_rating DESC"
            ],
            "metadata": {
                "azdata_cell_guid": "51ffeaaf-6dde-4906-95f3-eb8757babf27",
                "tags": [],
                "language": "sql"
            },
            "outputs": [
                {
                    "output_type": "display_data",
                    "data": {
                        "text/html": "(10 rows affected)"
                    },
                    "metadata": {}
                },
                {
                    "output_type": "display_data",
                    "data": {
                        "text/html": "Total execution time: 00:00:08.678"
                    },
                    "metadata": {}
                },
                {
                    "output_type": "execute_result",
                    "metadata": {},
                    "execution_count": 45,
                    "data": {
                        "application/vnd.dataresource+json": {
                            "schema": {
                                "fields": [
                                    {
                                        "name": "authors"
                                    },
                                    {
                                        "name": "title"
                                    },
                                    {
                                        "name": "average_rating"
                                    },
                                    {
                                        "name": "tag_id"
                                    }
                                ]
                            },
                            "data": [
                                {
                                    "0": "Bill Watterson",
                                    "1": "The Complete Calvin and Hobbes",
                                    "2": "4.82",
                                    "3": "1128"
                                },
                                {
                                    "0": "Bill Watterson",
                                    "1": "The Complete Calvin and Hobbes",
                                    "2": "4.82",
                                    "3": "1489"
                                },
                                {
                                    "0": "Bill Watterson",
                                    "1": "The Complete Calvin and Hobbes",
                                    "2": "4.82",
                                    "3": "2104"
                                },
                                {
                                    "0": "Bill Watterson",
                                    "1": "The Complete Calvin and Hobbes",
                                    "2": "4.82",
                                    "3": "2106"
                                },
                                {
                                    "0": "Bill Watterson",
                                    "1": "The Complete Calvin and Hobbes",
                                    "2": "4.82",
                                    "3": "2277"
                                },
                                {
                                    "0": "Bill Watterson",
                                    "1": "The Complete Calvin and Hobbes",
                                    "2": "4.82",
                                    "3": "2938"
                                },
                                {
                                    "0": "Bill Watterson",
                                    "1": "The Complete Calvin and Hobbes",
                                    "2": "4.82",
                                    "3": "4044"
                                },
                                {
                                    "0": "Bill Watterson",
                                    "1": "The Complete Calvin and Hobbes",
                                    "2": "4.82",
                                    "3": "4537"
                                },
                                {
                                    "0": "Bill Watterson",
                                    "1": "The Complete Calvin and Hobbes",
                                    "2": "4.82",
                                    "3": "5207"
                                },
                                {
                                    "0": "Bill Watterson",
                                    "1": "The Complete Calvin and Hobbes",
                                    "2": "4.82",
                                    "3": "5444"
                                }
                            ]
                        },
                        "text/html": [
                            "<table>",
                            "<tr><th>authors</th><th>title</th><th>average_rating</th><th>tag_id</th></tr>",
                            "<tr><td>Bill Watterson</td><td>The Complete Calvin and Hobbes</td><td>4.82</td><td>1128</td></tr>",
                            "<tr><td>Bill Watterson</td><td>The Complete Calvin and Hobbes</td><td>4.82</td><td>1489</td></tr>",
                            "<tr><td>Bill Watterson</td><td>The Complete Calvin and Hobbes</td><td>4.82</td><td>2104</td></tr>",
                            "<tr><td>Bill Watterson</td><td>The Complete Calvin and Hobbes</td><td>4.82</td><td>2106</td></tr>",
                            "<tr><td>Bill Watterson</td><td>The Complete Calvin and Hobbes</td><td>4.82</td><td>2277</td></tr>",
                            "<tr><td>Bill Watterson</td><td>The Complete Calvin and Hobbes</td><td>4.82</td><td>2938</td></tr>",
                            "<tr><td>Bill Watterson</td><td>The Complete Calvin and Hobbes</td><td>4.82</td><td>4044</td></tr>",
                            "<tr><td>Bill Watterson</td><td>The Complete Calvin and Hobbes</td><td>4.82</td><td>4537</td></tr>",
                            "<tr><td>Bill Watterson</td><td>The Complete Calvin and Hobbes</td><td>4.82</td><td>5207</td></tr>",
                            "<tr><td>Bill Watterson</td><td>The Complete Calvin and Hobbes</td><td>4.82</td><td>5444</td></tr>",
                            "</table>"
                        ]
                    }
                }
            ],
            "execution_count": 45
        },
        {
            "cell_type": "markdown",
            "source": [
                "### **Record your thoughts about why you wrote the query the way you did.**"
            ],
            "metadata": {
                "azdata_cell_guid": "1e19a72c-1bca-446b-a0c7-a8efbc35dcf1"
            },
            "attachments": {}
        },
        {
            "cell_type": "markdown",
            "source": [
                "# Part 2: Choose Another Month\n",
                "Choose another month and plan at least 2 events / promotions and answer the following questions.\n",
                "Which month did you choose?  \n",
                "What 2 events / promotions are you highlighting?\n",
                "> 1\\. Event 1: Holiday Gift Guide\n",
                "> \n",
                ">    Goal: Create a list of highly rated books that are perfect for gift-giving during the holiday season.\n",
                "> 2. Event 2: Best of 2023 \n",
                "> \n",
                ">           Goal: Highlight the best books of the year. This event will include a list of highly rated books that were released throught the year, as well as staff picks for the best books of the year."
            ],
            "metadata": {
                "azdata_cell_guid": "3eaf376d-9de3-4553-a9d0-9caf74ee3d6a"
            },
            "attachments": {}
        },
        {
            "cell_type": "markdown",
            "source": [
                "# Part 3: Summarize your Work\n",
                "\n",
                "For each event write at least one query that joins any two tables in the BooksDB to support your choice and record you thoughts as to why you used the paticlular query. At least one of your queries needs to include a HAVING clause."
            ],
            "metadata": {
                "azdata_cell_guid": "1ba1363a-4f02-4962-a95a-93b80c5926b1"
            },
            "attachments": {}
        },
        {
            "cell_type": "code",
            "source": [
                "-- Event 1 Query"
            ],
            "metadata": {
                "azdata_cell_guid": "f50d32ce-4cb2-4af2-acb1-607777a76cf8",
                "language": "sql"
            },
            "outputs": [],
            "execution_count": null
        },
        {
            "cell_type": "code",
            "source": [
                ""
            ],
            "metadata": {
                "azdata_cell_guid": "5606f7f2-c46b-42d3-ac64-7ae21c3394f8",
                "language": "sql"
            },
            "outputs": [],
            "execution_count": null
        },
        {
            "cell_type": "markdown",
            "source": [
                "### **Summary of event 1:**\n",
                "\n",
                "Double Click to edit."
            ],
            "metadata": {
                "azdata_cell_guid": "3bc72d4c-077b-42d3-9528-9aff8e7b6cf3"
            },
            "attachments": {}
        },
        {
            "cell_type": "code",
            "source": [
                "-- Event 2 Query"
            ],
            "metadata": {
                "azdata_cell_guid": "dca0a98f-065f-4b0e-9d93-fcb01cad668c",
                "language": "sql"
            },
            "outputs": [],
            "execution_count": null
        },
        {
            "cell_type": "code",
            "source": [
                ""
            ],
            "metadata": {
                "azdata_cell_guid": "3aaae3a8-eff7-4b37-8970-2d913a67239b",
                "language": "sql"
            },
            "outputs": [],
            "execution_count": null
        },
        {
            "cell_type": "markdown",
            "source": [
                "### **Summary of event 2:**\n",
                "\n",
                "Double Click to edit."
            ],
            "metadata": {
                "azdata_cell_guid": "99d518dc-cd8b-42d6-9a9d-708771c9aa99"
            },
            "attachments": {}
        }
    ]
}